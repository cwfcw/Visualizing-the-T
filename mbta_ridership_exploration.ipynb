{
 "cells": [
  {
   "cell_type": "markdown",
   "id": "5aba5e1a",
   "metadata": {},
   "source": [
    "# MBTA Ridership — Baseline Exploration\n",
    "\n",
    "This notebook demonstrates a minimal end-to-end run on a sample dataset to validate the environment and plotting stack."
   ]
  },
  {
   "cell_type": "code",
   "execution_count": null,
   "id": "f0713d65",
   "metadata": {},
   "outputs": [],
   "source": [
    "import pandas as pd\n",
    "import altair as alt\n",
    "\n",
    "csv_path = '../data/mbta_ridership_sample.csv'\n",
    "df = pd.read_csv(csv_path)\n",
    "df\n"
   ]
  },
  {
   "cell_type": "code",
   "execution_count": null,
   "id": "5b22be0c",
   "metadata": {},
   "outputs": [],
   "source": [
    "# Aggregate by month (already aggregated in the sample, but shown for pattern)\n",
    "monthly = df.groupby('month', as_index=False)['ridership'].sum()\n",
    "monthly\n"
   ]
  },
  {
   "cell_type": "code",
   "execution_count": null,
   "id": "07d7b978",
   "metadata": {},
   "outputs": [],
   "source": [
    "# Line chart of monthly ridership\n",
    "chart = alt.Chart(monthly).mark_line(point=True).encode(\n",
    "    x=alt.X('month:N', title='Month'),\n",
    "    y=alt.Y('ridership:Q', title='Ridership'),\n",
    "    tooltip=['month', 'ridership']\n",
    ").properties(\n",
    "    title='MBTA Monthly Ridership (Sample)',\n",
    "    width=600,\n",
    "    height=350\n",
    ")\n",
    "chart\n"
   ]
  },
  {
   "cell_type": "markdown",
   "id": "fa5dfe10",
   "metadata": {},
   "source": [
    "## Next steps\n",
    "- Replace the sample CSV with the official MBTA subset.\n",
    "- Add per-line breakdown (Red/Orange/Green/Blue) and weekday vs weekend splits.\n",
    "- Consider a heatmap (hour × line) if you add hourly data later.\n"
   ]
  }
 ],
 "metadata": {},
 "nbformat": 4,
 "nbformat_minor": 5
}
